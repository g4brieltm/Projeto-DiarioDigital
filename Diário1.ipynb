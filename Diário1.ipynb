{
  "cells": [
    {
      "cell_type": "markdown",
      "metadata": {
        "id": "view-in-github",
        "colab_type": "text"
      },
      "source": [
        "<a href=\"https://colab.research.google.com/github/g4brieltm/Projeto-DiarioDigital/blob/main/Di%C3%A1rio1.ipynb\" target=\"_parent\"><img src=\"https://colab.research.google.com/assets/colab-badge.svg\" alt=\"Open In Colab\"/></a>"
      ]
    },
    {
      "cell_type": "code",
      "source": [
        "import os\n",
        "from datetime import datetime\n",
        "\n",
        "def exibir_menu():\n",
        "    print(\"\\nMenu:\")\n",
        "    print(\"1. Escrever no diário\")\n",
        "    print(\"2. Ler entradas do diário\")\n",
        "    print(\"3. Sair\")\n",
        "\n",
        "def escrever_no_diario():\n",
        "    texto = input(\"Digite sua anotação: \")\n",
        "    data_hora = datetime.now().strftime(\"%d/%m/%Y %H:%M:%S\")\n",
        "    with open(\"diario.txt\", \"a\") as arquivo:\n",
        "        arquivo.write(f\"[{data_hora}] {texto}\\n\")\n",
        "    print(\"Anotação salva com sucesso!\")\n",
        "\n",
        "def ler_diario():\n",
        "    if os.path.exists(\"diario.txt\"):\n",
        "        with open(\"diario.txt\", \"r\") as arquivo:\n",
        "            entradas = arquivo.readlines()\n",
        "            if entradas:\n",
        "                print(\"\\nEntradas do diário:\")\n",
        "                for entrada in entradas:\n",
        "                    print(entrada.strip())\n",
        "            else:\n",
        "                print(\"O diário está vazio.\")\n",
        "    else:\n",
        "        print(\"O diário ainda não foi criado.\")\n",
        "\n",
        "def main():\n",
        "    while True:\n",
        "        exibir_menu()\n",
        "        escolha = input(\"Escolha uma opção (1, 2 ou 3): \")\n",
        "\n",
        "        if escolha == \"1\":\n",
        "            escrever_no_diario()\n",
        "        elif escolha == \"2\":\n",
        "            ler_diario()\n",
        "        elif escolha == \"3\":\n",
        "            print(\"Saindo do programa. Até logo!\")\n",
        "            break\n",
        "        else:\n",
        "            print(\"Opção inválida. Tente novamente.\")\n",
        "\n",
        "if __name__ == \"__main__\":\n",
        "    main()"
      ],
      "metadata": {
        "id": "s35s-vGFRIpd"
      },
      "execution_count": null,
      "outputs": []
    }
  ],
  "metadata": {
    "colab": {
      "name": "Conheça o Colab",
      "provenance": [],
      "include_colab_link": true
    },
    "kernelspec": {
      "display_name": "Python 3",
      "name": "python3"
    }
  },
  "nbformat": 4,
  "nbformat_minor": 0
}